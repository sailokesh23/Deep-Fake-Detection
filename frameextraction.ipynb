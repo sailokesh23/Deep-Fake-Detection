{
 "cells": [
  {
   "cell_type": "markdown",
   "id": "0a1cdcba",
   "metadata": {},
   "source": [
    "# Convert videos to frames\n",
    "The code below takes a folder that contains videos and extracts 10 frames from each video, saving them to an output folder. We tried increasing the number of frames, but the change in accuracy was negligible."
   ]
  },
  {
   "cell_type": "code",
   "execution_count": null,
   "id": "297b628a",
   "metadata": {},
   "outputs": [],
   "source": [
    "import os\n",
    "import cv2\n",
    "\n",
    "def extract_images_from_videos(videos_folder, output_folder, start_frame_number=601, num_images_per_video=10):\n",
    "    frame_number = start_frame_number\n",
    "    \n",
    "    for filename in os.listdir(videos_folder):\n",
    "        if filename.endswith(\".mp4\"):\n",
    "            video_path = os.path.join(videos_folder, filename)\n",
    "            frame_number = extract_images(video_path, output_folder, start_frame_number=frame_number, num_images=num_images_per_video)\n",
    "\n",
    "def extract_images(video_path, output_folder, num_images=30, start_frame_number=0):\n",
    "    video = cv2.VideoCapture(video_path)\n",
    "    total_frames = int(video.get(cv2.CAP_PROP_FRAME_COUNT))\n",
    "    interval = max(total_frames // num_images, 1)\n",
    "    count = 0\n",
    "    frame_number = start_frame_number\n",
    "\n",
    "    if not video.isOpened():\n",
    "        print(f\"Error: Could not open video file {video_path}\")\n",
    "        return frame_number\n",
    "\n",
    "    while True:\n",
    "        ret, frame = video.read()\n",
    "\n",
    "        if not ret:\n",
    "            break\n",
    "\n",
    "        if count % interval == 0:\n",
    "            image_path = os.path.join(output_folder, f\"frame_{frame_number}.jpg\")\n",
    "            cv2.imwrite(image_path, frame)\n",
    "            print(f\"Saved frame {frame_number} from {video_path}\")\n",
    "            frame_number += 2  # Increment by two for every next image\n",
    "            if frame_number - start_frame_number >= num_images * 2:  \n",
    "                break\n",
    "\n",
    "        count += 1\n",
    "\n",
    "    video.release()\n",
    "    return frame_number\n",
    "\n",
    "videos_folder = r\"C:\\Users\\Sai lokesh\\OneDrive\\Documents\\Celeb-DF\\Celeb-real\"\n",
    "output_folder = r\"C:\\Users\\Sai lokesh\\OneDrive\\Documents\\Celeb-DF\\Celeb-real\\frames\"\n",
    "start_frame_number = 0\n",
    "num_images_per_video = 10\n",
    "\n",
    "extract_images_from_videos(videos_folder, output_folder, start_frame_number, num_images_per_video)\n"
   ]
  }
 ],
 "metadata": {
  "kernelspec": {
   "display_name": "Python 3 (ipykernel)",
   "language": "python",
   "name": "python3"
  },
  "language_info": {
   "codemirror_mode": {
    "name": "ipython",
    "version": 3
   },
   "file_extension": ".py",
   "mimetype": "text/x-python",
   "name": "python",
   "nbconvert_exporter": "python",
   "pygments_lexer": "ipython3",
   "version": "3.10.7"
  }
 },
 "nbformat": 4,
 "nbformat_minor": 5
}
