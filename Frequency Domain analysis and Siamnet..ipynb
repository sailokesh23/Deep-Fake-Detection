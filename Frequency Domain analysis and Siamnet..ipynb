{
 "cells": [
  {
   "cell_type": "code",
   "execution_count": 1,
   "id": "10d6ea87",
   "metadata": {},
   "outputs": [
    {
     "name": "stdout",
     "output_type": "stream",
     "text": [
      "WARNING:tensorflow:From C:\\Users\\Sai lokesh\\AppData\\Local\\Programs\\Python\\Python310\\lib\\site-packages\\keras\\src\\losses.py:2976: The name tf.losses.sparse_softmax_cross_entropy is deprecated. Please use tf.compat.v1.losses.sparse_softmax_cross_entropy instead.\n",
      "\n"
     ]
    }
   ],
   "source": [
    "import tensorflow as tf\n",
    "from tensorflow.keras.applications import InceptionV3\n",
    "from tensorflow.keras.applications.inception_v3 import preprocess_input\n",
    "import matplotlib.pyplot as plt\n",
    "import numpy as np\n",
    "from scipy.fft import fft, fftfreq\n"
   ]
  },
  {
   "cell_type": "markdown",
   "id": "9cef7607",
   "metadata": {},
   "source": [
    "# Load the features that we saved before"
   ]
  },
  {
   "cell_type": "code",
   "execution_count": 2,
   "id": "5208ec76",
   "metadata": {},
   "outputs": [],
   "source": [
    "# Load face features\n",
    "face_data = np.load(r\"C:\\Users\\Sai lokesh\\OneDrive\\Documents\\jupyter\\face_features1.npz\")\n",
    "face_categories1 = face_data['categories']\n",
    "face_feature1= face_data['features']\n",
    "\n",
    "# Zip categories and features together\n",
    "face_features1= list(zip(face_categories1, face_feature1))\n",
    "\n",
    "# Load patch features\n",
    "patch_data = np.load(r\"C:\\Users\\Sai lokesh\\OneDrive\\Documents\\jupyter\\patch_features1.npz\")\n",
    "patch_categories1= patch_data['categories']\n",
    "patch_feature1 = patch_data['features']\n",
    "patch_features1= list(zip(patch_categories1, patch_feature1))"
   ]
  },
  {
   "cell_type": "code",
   "execution_count": 3,
   "id": "b1b4bcef",
   "metadata": {},
   "outputs": [],
   "source": [
    "# Load face features\n",
    "face_data = np.load(r\"C:\\Users\\Sai lokesh\\OneDrive\\Documents\\jupyter\\face_features2.npz\")\n",
    "face_categories2 = face_data['categories']\n",
    "face_feature2= face_data['features']\n",
    "# Zip categories and features together\n",
    "face_features2= list(zip(face_categories2, face_feature2))\n",
    "# Load patch features\n",
    "patch_data = np.load(r\"C:\\Users\\Sai lokesh\\OneDrive\\Documents\\jupyter\\patch_features2.npz\")\n",
    "patch_categories2= patch_data['categories']\n",
    "patch_feature2= patch_data['features']\n",
    "patch_features2= list(zip(patch_categories2, patch_feature2))"
   ]
  },
  {
   "cell_type": "code",
   "execution_count": 4,
   "id": "29a727ac",
   "metadata": {},
   "outputs": [],
   "source": [
    "# Load face features\n",
    "face_data = np.load(r\"C:\\Users\\Sai lokesh\\OneDrive\\Documents\\jupyter\\face_features3.npz\")\n",
    "face_categories3 = face_data['categories']\n",
    "face_feature3= face_data['features']\n",
    "# Zip categories and features together\n",
    "face_features3= list(zip(face_categories3, face_feature3))\n",
    "# Load patch features\n",
    "patch_data = np.load(r\"C:\\Users\\Sai lokesh\\OneDrive\\Documents\\jupyter\\patch_features3.npz\")\n",
    "patch_categories3= patch_data['categories']\n",
    "patch_feature3= patch_data['features']\n",
    "patch_features3= list(zip(patch_categories3, patch_feature3))"
   ]
  },
  {
   "cell_type": "markdown",
   "id": "b468e73a",
   "metadata": {},
   "source": [
    "# Concatenate all the features"
   ]
  },
  {
   "cell_type": "code",
   "execution_count": 5,
   "id": "77c06f37",
   "metadata": {},
   "outputs": [],
   "source": [
    "face_feature=np.concatenate((face_feature1, face_feature2,face_feature3))\n",
    "patch_feature=np.concatenate((face_feature1, patch_feature2,patch_feature3))\n",
    "face_categories=np.concatenate((face_categories1, face_categories2,face_categories3))\n",
    "patch_categories=np.concatenate((patch_categories1, patch_categories2,patch_categories3))"
   ]
  },
  {
   "cell_type": "markdown",
   "id": "e8f3a0ec",
   "metadata": {},
   "source": [
    "# Check the characterstics of faces and patches"
   ]
  },
  {
   "cell_type": "code",
   "execution_count": 6,
   "id": "c885e265",
   "metadata": {},
   "outputs": [
    {
     "name": "stdout",
     "output_type": "stream",
     "text": [
      "Face Feature Array:\n",
      "Size: 9439232\n",
      "Shape: (4609, 1, 2048)\n",
      "Dimensions: 3\n",
      "Data Type: float32\n",
      "\n",
      "Face Categories Array:\n",
      "Size: 4609\n",
      "Unique Categories: ['fake' 'real']\n",
      "Dimensions: 1\n",
      "Data Type: <U4\n",
      "\n",
      "Patch Feature Array:\n",
      "Size: 9439232\n",
      "Shape: (4609, 1, 2048)\n",
      "Dimensions: 3\n",
      "Data Type: float32\n"
     ]
    }
   ],
   "source": [
    "# Size, shape, and dimensions of face_feature\n",
    "print(\"Face Feature Array:\")\n",
    "print(\"Size:\", face_feature.size)\n",
    "print(\"Shape:\", face_feature.shape)\n",
    "print(\"Dimensions:\", face_feature.ndim)\n",
    "print(\"Data Type:\", face_feature.dtype)\n",
    "\n",
    "# Size, shape, and dimensions of face_categories\n",
    "print(\"\\nFace Categories Array:\")\n",
    "print(\"Size:\", len(face_categories))\n",
    "print(\"Unique Categories:\", np.unique(face_categories))\n",
    "print(\"Dimensions:\", face_categories.ndim)\n",
    "print(\"Data Type:\", face_categories.dtype)\n",
    "\n",
    "# Size, shape, and dimensions of patch_feature\n",
    "print(\"\\nPatch Feature Array:\")\n",
    "print(\"Size:\", patch_feature.size)\n",
    "print(\"Shape:\", patch_feature.shape)\n",
    "print(\"Dimensions:\", patch_feature.ndim)\n",
    "print(\"Data Type:\", patch_feature.dtype)\n"
   ]
  },
  {
   "cell_type": "markdown",
   "id": "ac627cd0",
   "metadata": {},
   "source": [
    "# Apply Frequency Fourier transform to features\n",
    "The below code takes the features of faces and patches and applies frequency fourier transform and returns the result."
   ]
  },
  {
   "cell_type": "code",
   "execution_count": 8,
   "id": "bd30881a",
   "metadata": {},
   "outputs": [],
   "source": [
    "def perform_fft(features):\n",
    "    \n",
    "  \n",
    "  # Check if it's a single feature or a batch\n",
    "    if len(features.shape) == 1:\n",
    "        \n",
    "        fft_result = fft(features)\n",
    "    else:\n",
    "    # Apply FFT to each feature vector in the batch\n",
    "        \n",
    "        fft_result = np.apply_along_axis(fft, 1, features)\n",
    "    return fft_result\n",
    "\n",
    "\n",
    "# Process face features\n",
    "face_features_fft = perform_fft(face_feature)\n",
    "patch_features_fft = perform_fft(patch_feature)"
   ]
  },
  {
   "cell_type": "code",
   "execution_count": 10,
   "id": "b38b87da",
   "metadata": {},
   "outputs": [],
   "source": [
    "def extract_frequency_features(fft_result):\n",
    "\n",
    "    # Calculate magnitude spectrum (absolute value)\n",
    "    magnitude_spectrum = np.abs(fft_result)\n",
    "\n",
    "    # Calculate additional features (as arrays)\n",
    "    frequencies = np.arange(len(magnitude_spectrum))  \n",
    "    mean_frequencies = frequencies * magnitude_spectrum / np.sum(magnitude_spectrum)\n",
    "    cumulative_energy = np.cumsum(magnitude_spectrum)\n",
    "\n",
    "    # Return features as arrays\n",
    "    return {\n",
    "        \"magnitude_spectrum\": magnitude_spectrum,\n",
    "        \"mean_frequencies\": mean_frequencies,  \n",
    "        \"cumulative_energy\": cumulative_energy,\n",
    "    }\n"
   ]
  },
  {
   "cell_type": "code",
   "execution_count": 11,
   "id": "7a6a7543",
   "metadata": {},
   "outputs": [],
   "source": [
    "face_frequency_features = {}\n",
    "for i, feature_fft in enumerate(face_features_fft):\n",
    "  # Extract features for each face feature\n",
    "  face_frequency_features[i] = extract_frequency_features(feature_fft)"
   ]
  },
  {
   "cell_type": "code",
   "execution_count": 12,
   "id": "16cdea40",
   "metadata": {},
   "outputs": [],
   "source": [
    "patch_frequency_features = {}\n",
    "for i, feature_fft in enumerate(patch_features_fft):\n",
    "  # Extract features for each patch feature\n",
    "  patch_frequency_features[i] = extract_frequency_features(feature_fft)"
   ]
  },
  {
   "cell_type": "markdown",
   "id": "78309fcf",
   "metadata": {},
   "source": [
    "# Concatenate the noise features and frequency features"
   ]
  },
  {
   "cell_type": "code",
   "execution_count": 20,
   "id": "7f4e099d",
   "metadata": {
    "scrolled": true
   },
   "outputs": [
    {
     "name": "stdout",
     "output_type": "stream",
     "text": [
      "Combined features shape: (4609, 4, 2048)\n"
     ]
    }
   ],
   "source": [
    "combined_features = []\n",
    "for i in range(len(face_feature)):\n",
    "    \n",
    "    \n",
    "    combined_feature = np.concatenate((face_feature[i], patch_feature[i], face_frequency_features[i][\"magnitude_spectrum\"], patch_frequency_features[i][\"magnitude_spectrum\"]))\n",
    "    \n",
    "    combined_features.append(combined_feature)\n",
    "\n",
    "\n",
    "combined_features = np.array(combined_features)\n",
    "\n",
    "print(\"Combined features shape:\", combined_features.shape)"
   ]
  },
  {
   "cell_type": "markdown",
   "id": "e3dbe87f",
   "metadata": {},
   "source": [
    "# Load and Intialize the siamnet model."
   ]
  },
  {
   "cell_type": "code",
   "execution_count": 21,
   "id": "4bf5504c",
   "metadata": {},
   "outputs": [
    {
     "name": "stdout",
     "output_type": "stream",
     "text": [
      "WARNING:tensorflow:From C:\\Users\\Sai lokesh\\AppData\\Local\\Programs\\Python\\Python310\\lib\\site-packages\\keras\\src\\backend.py:1398: The name tf.executing_eagerly_outside_functions is deprecated. Please use tf.compat.v1.executing_eagerly_outside_functions instead.\n",
      "\n",
      "WARNING:tensorflow:From C:\\Users\\Sai lokesh\\AppData\\Local\\Programs\\Python\\Python310\\lib\\site-packages\\keras\\src\\optimizers\\__init__.py:309: The name tf.train.Optimizer is deprecated. Please use tf.compat.v1.train.Optimizer instead.\n",
      "\n"
     ]
    }
   ],
   "source": [
    "import numpy as np\n",
    "from tensorflow.keras.models import Model\n",
    "from tensorflow.keras.layers import Input, Dense\n",
    "\n",
    "input_layer = Input(shape=(8192,), name='input_layer')\n",
    "\n",
    "#  dense layers for classification\n",
    "dense1 = Dense(1024, activation='relu', name='dense1')(input_layer)\n",
    "output_layer = Dense(1, activation='sigmoid', name='output_layer')(dense1)\n",
    "\n",
    "# Siamese network model\n",
    "siam_net = Model(inputs=input_layer, outputs=output_layer)\n",
    "\n",
    "# Compile the model\n",
    "siam_net.compile(optimizer='adam', loss='binary_crossentropy', metrics=['accuracy'])\n"
   ]
  },
  {
   "cell_type": "markdown",
   "id": "7cb9eda2",
   "metadata": {},
   "source": [
    "# Training\n",
    "\n",
    "In the code below, we train the SiamNet model by splitting the data into a 70-30 ratio."
   ]
  },
  {
   "cell_type": "code",
   "execution_count": 26,
   "id": "c56d310f",
   "metadata": {},
   "outputs": [
    {
     "name": "stdout",
     "output_type": "stream",
     "text": [
      "Epoch 1/11\n",
      "91/91 [==============================] - 5s 57ms/step - loss: 0.0395 - accuracy: 0.9866 - val_loss: 0.5071 - val_accuracy: 0.8669\n",
      "Epoch 2/11\n",
      "91/91 [==============================] - 5s 52ms/step - loss: 0.0396 - accuracy: 0.9866 - val_loss: 0.5528 - val_accuracy: 0.8390\n",
      "Epoch 3/11\n",
      "91/91 [==============================] - 5s 52ms/step - loss: 0.0555 - accuracy: 0.9783 - val_loss: 0.3793 - val_accuracy: 0.8854\n",
      "Epoch 4/11\n",
      "91/91 [==============================] - 5s 53ms/step - loss: 0.0770 - accuracy: 0.9721 - val_loss: 0.3520 - val_accuracy: 0.8885\n",
      "Epoch 5/11\n",
      "91/91 [==============================] - 5s 51ms/step - loss: 0.0441 - accuracy: 0.9838 - val_loss: 0.4584 - val_accuracy: 0.8607\n",
      "Epoch 6/11\n",
      "91/91 [==============================] - 5s 51ms/step - loss: 0.1099 - accuracy: 0.9600 - val_loss: 0.5234 - val_accuracy: 0.8452\n",
      "Epoch 7/11\n",
      "91/91 [==============================] - 5s 51ms/step - loss: 0.0733 - accuracy: 0.9724 - val_loss: 0.3952 - val_accuracy: 0.8824\n",
      "Epoch 8/11\n",
      "91/91 [==============================] - 5s 51ms/step - loss: 0.0359 - accuracy: 0.9893 - val_loss: 0.4841 - val_accuracy: 0.8638\n",
      "Epoch 9/11\n",
      "91/91 [==============================] - 5s 51ms/step - loss: 0.0562 - accuracy: 0.9797 - val_loss: 0.4052 - val_accuracy: 0.8824\n",
      "Epoch 10/11\n",
      "91/91 [==============================] - 5s 51ms/step - loss: 0.0174 - accuracy: 0.9972 - val_loss: 0.4427 - val_accuracy: 0.8762\n",
      "Epoch 11/11\n",
      "91/91 [==============================] - 5s 51ms/step - loss: 0.0230 - accuracy: 0.9921 - val_loss: 0.4178 - val_accuracy: 0.8793\n"
     ]
    },
    {
     "data": {
      "text/plain": [
       "<keras.src.callbacks.History at 0x2137db197e0>"
      ]
     },
     "execution_count": 26,
     "metadata": {},
     "output_type": "execute_result"
    }
   ],
   "source": [
    "from sklearn.model_selection import train_test_split\n",
    "import numpy as np\n",
    "\n",
    "X_train = combined_features.reshape(combined_features.shape[0], -1)  \n",
    "\n",
    "\n",
    "y_train = np.array([0 if category == 'real' else 1 for category in face_categories])\n",
    "\n",
    "X_train, X_test, y_train, y_test = train_test_split(X_train, y_train, test_size=0.3, random_state=42)\n",
    "\n",
    "\n",
    "siam_net.fit(\n",
    "    X_train,\n",
    "    y_train,\n",
    "    batch_size=32,\n",
    "    epochs=11,\n",
    "    validation_split=0.1\n",
    ")"
   ]
  },
  {
   "cell_type": "markdown",
   "id": "8af8587e",
   "metadata": {},
   "source": [
    "# Testing"
   ]
  },
  {
   "cell_type": "code",
   "execution_count": 28,
   "id": "e2189847",
   "metadata": {},
   "outputs": [
    {
     "name": "stdout",
     "output_type": "stream",
     "text": [
      "44/44 [==============================] - 0s 8ms/step - loss: 0.3537 - accuracy: 0.8980\n",
      "Test accuracy: 0.8980477452278137\n"
     ]
    }
   ],
   "source": [
    "test_loss, test_accuracy = siam_net.evaluate(X_test,y_test, verbose=1)\n",
    "print('Test accuracy:', test_accuracy)"
   ]
  },
  {
   "cell_type": "markdown",
   "id": "19bdfa24",
   "metadata": {},
   "source": [
    "# Confusin Matrix"
   ]
  },
  {
   "cell_type": "code",
   "execution_count": 29,
   "id": "f4d98724",
   "metadata": {},
   "outputs": [
    {
     "name": "stdout",
     "output_type": "stream",
     "text": [
      "44/44 [==============================] - 0s 8ms/step\n"
     ]
    },
    {
     "data": {
      "image/png": "[encoded data removed]",
      "text/plain": [
       "<Figure size 800x600 with 1 Axes>"
      ]
     },
     "metadata": {},
     "output_type": "display_data"
    }
   ],
   "source": [
    "from sklearn.metrics import confusion_matrix\n",
    "import matplotlib.pyplot as plt\n",
    "import seaborn as sns\n",
    "y_pred = siam_net.predict(X_test)\n",
    "# Convert predicted probabilities to class labels\n",
    "y_pred_classes = (y_pred > 0.5).astype(int)\n",
    "\n",
    "# Build confusion matrix\n",
    "cm = confusion_matrix(y_test, y_pred_classes)\n",
    "\n",
    "# Plot confusion matrix\n",
    "plt.figure(figsize=(8, 6))\n",
    "sns.heatmap(cm, annot=True, fmt='d', cmap='Blues', cbar=False,\n",
    "            xticklabels=['real', 'fake'], yticklabels=['real', 'fake'])\n",
    "plt.xlabel('Predicted labels')\n",
    "plt.ylabel('True labels')\n",
    "plt.title('Confusion Matrix')\n",
    "plt.show()"
   ]
  },
  {
   "cell_type": "markdown",
   "id": "3e034fa1",
   "metadata": {},
   "source": [
    "# Save the trained Model"
   ]
  },
  {
   "cell_type": "code",
   "execution_count": 24,
   "id": "8295b5f1",
   "metadata": {},
   "outputs": [
    {
     "name": "stderr",
     "output_type": "stream",
     "text": [
      "C:\\Users\\Sai lokesh\\AppData\\Local\\Programs\\Python\\Python310\\lib\\site-packages\\keras\\src\\engine\\training.py:3103: UserWarning: You are saving your model as an HDF5 file via `model.save()`. This file format is considered legacy. We recommend using instead the native Keras format, e.g. `model.save('my_model.keras')`.\n",
      "  saving_api.save_model(\n"
     ]
    }
   ],
   "source": [
    "# Save the trained model\n",
    "siam_net.save(\"siam_net_model3.h5\")\n"
   ]
  },
  {
   "cell_type": "markdown",
   "id": "d245e04b",
   "metadata": {},
   "source": [
    "# Load the model that was trained before."
   ]
  },
  {
   "cell_type": "code",
   "execution_count": 30,
   "id": "4172d310",
   "metadata": {},
   "outputs": [],
   "source": [
    "from tensorflow.keras.models import load_model\n",
    "# Load the saved model\n",
    "loaded_model = load_model(\"siam_net_model4.h5\")\n"
   ]
  },
  {
   "cell_type": "markdown",
   "id": "8709cd27",
   "metadata": {},
   "source": [
    "# Training"
   ]
  },
  {
   "cell_type": "code",
   "execution_count": 34,
   "id": "2a133484",
   "metadata": {},
   "outputs": [
    {
     "name": "stdout",
     "output_type": "stream",
     "text": [
      "Epoch 1/6\n",
      "91/91 [==============================] - 5s 56ms/step - loss: 0.0243 - accuracy: 0.9907 - val_loss: 0.3388 - val_accuracy: 0.9071\n",
      "Epoch 2/6\n",
      "91/91 [==============================] - 5s 52ms/step - loss: 0.0131 - accuracy: 0.9966 - val_loss: 0.2457 - val_accuracy: 0.9195\n",
      "Epoch 3/6\n",
      "91/91 [==============================] - 5s 51ms/step - loss: 0.0201 - accuracy: 0.9941 - val_loss: 0.3820 - val_accuracy: 0.9195\n",
      "Epoch 4/6\n",
      "91/91 [==============================] - 5s 51ms/step - loss: 0.0151 - accuracy: 0.9955 - val_loss: 0.2684 - val_accuracy: 0.9381\n",
      "Epoch 5/6\n",
      "91/91 [==============================] - 5s 51ms/step - loss: 0.0133 - accuracy: 0.9952 - val_loss: 0.2656 - val_accuracy: 0.9319\n",
      "Epoch 6/6\n",
      "91/91 [==============================] - 5s 51ms/step - loss: 0.0106 - accuracy: 0.9976 - val_loss: 0.2687 - val_accuracy: 0.9381\n"
     ]
    },
    {
     "data": {
      "text/plain": [
       "<keras.src.callbacks.History at 0x21386745030>"
      ]
     },
     "execution_count": 34,
     "metadata": {},
     "output_type": "execute_result"
    }
   ],
   "source": [
    "loaded_model.fit(\n",
    "    X_train,\n",
    "    y_train,\n",
    "    batch_size=32,\n",
    "    epochs=6,\n",
    "    validation_split=0.1\n",
    ")"
   ]
  },
  {
   "cell_type": "markdown",
   "id": "f98607d3",
   "metadata": {},
   "source": [
    "# Testing"
   ]
  },
  {
   "cell_type": "code",
   "execution_count": 35,
   "id": "6bb304fc",
   "metadata": {},
   "outputs": [
    {
     "name": "stdout",
     "output_type": "stream",
     "text": [
      "44/44 [==============================] - 0s 8ms/step - loss: 0.1689 - accuracy: 0.9516\n",
      "Test accuracy: 0.9515545964241028\n"
     ]
    }
   ],
   "source": [
    "test_loss, test_accuracy = loaded_model.evaluate(X_test,y_test, verbose=1)\n",
    "print('Test accuracy:', test_accuracy)"
   ]
  },
  {
   "cell_type": "markdown",
   "id": "c88a993a",
   "metadata": {},
   "source": [
    "# Confusion Matrix"
   ]
  },
  {
   "cell_type": "code",
   "execution_count": 36,
   "id": "4d3a1705",
   "metadata": {},
   "outputs": [
    {
     "name": "stdout",
     "output_type": "stream",
     "text": [
      "44/44 [==============================] - 0s 7ms/step\n"
     ]
    },
    {
     "data": {
      "image/png": "[encoded data removed]",
      "text/plain": [
       "<Figure size 800x600 with 1 Axes>"
      ]
     },
     "metadata": {},
     "output_type": "display_data"
    }
   ],
   "source": [
    "y_pred = loaded_model.predict(X_test)\n",
    "# Convert predicted probabilities to class labels\n",
    "y_pred_classes = (y_pred > 0.5).astype(int)\n",
    "\n",
    "# Build confusion matrix\n",
    "cm = confusion_matrix(y_test, y_pred_classes)\n",
    "\n",
    "# Plot confusion matrix\n",
    "plt.figure(figsize=(8, 6))\n",
    "sns.heatmap(cm, annot=True, fmt='d', cmap='Blues', cbar=False,\n",
    "            xticklabels=['real', 'fake'], yticklabels=['real', 'fake'])\n",
    "plt.xlabel('Predicted labels')\n",
    "plt.ylabel('True labels')\n",
    "plt.title('Confusion Matrix')\n",
    "plt.show()"
   ]
  },
  {
   "cell_type": "markdown",
   "id": "1f4d326e",
   "metadata": {},
   "source": [
    "# Precision"
   ]
  },
  {
   "cell_type": "code",
   "execution_count": 37,
   "id": "ad6b1bed",
   "metadata": {},
   "outputs": [
    {
     "name": "stdout",
     "output_type": "stream",
     "text": [
      "44/44 [==============================] - 0s 7ms/step\n",
      "Root Mean Squared Error (RMSE): 0.22010317701518176\n",
      "Precision: 0.9527326440177253\n"
     ]
    }
   ],
   "source": [
    "from sklearn.metrics import precision_score, mean_squared_error\n",
    "y_pred = loaded_model.predict(X_test)\n",
    "y_pred_class = np.round(y_pred)\n",
    "\n",
    "rmse = np.sqrt(mean_squared_error(y_test, y_pred_class))\n",
    "print('Root Mean Squared Error (RMSE):', rmse)\n",
    "\n",
    "precision = precision_score(y_test, y_pred_class)\n",
    "print('Precision:', precision)"
   ]
  }
 ],
 "metadata": {
  "kernelspec": {
   "display_name": "Python 3 (ipykernel)",
   "language": "python",
   "name": "python3"
  },
  "language_info": {
   "codemirror_mode": {
    "name": "ipython",
    "version": 3
   },
   "file_extension": ".py",
   "mimetype": "text/x-python",
   "name": "python",
   "nbconvert_exporter": "python",
   "pygments_lexer": "ipython3",
   "version": "3.10.7"
  }
 },
 "nbformat": 4,
 "nbformat_minor": 5
}
